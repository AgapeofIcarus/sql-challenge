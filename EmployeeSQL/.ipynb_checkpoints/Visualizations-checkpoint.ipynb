{
 "cells": [
  {
   "cell_type": "code",
   "execution_count": 1,
   "id": "expired-madagascar",
   "metadata": {
    "collapsed": true
   },
   "outputs": [],
   "source": [
    "# SQLAlchemy\n",
    "from sqlalchemy import create_engine\n",
    "database_path = \"/PewlettHackard.sql\""
   ]
  },
  {
   "cell_type": "code",
   "execution_count": 2,
   "id": "foreign-update",
   "metadata": {
    "collapsed": true
   },
   "outputs": [],
   "source": [
    "# Create engine to communicate with database.\n",
    "engine = create_engine(f\"sqlite:///{database_path}\")"
   ]
  }
 ],
 "metadata": {
  "kernelspec": {
   "display_name": "PythonData",
   "language": "python",
   "name": "pythondata"
  },
  "language_info": {
   "codemirror_mode": {
    "name": "ipython",
    "version": 3
   },
   "file_extension": ".py",
   "mimetype": "text/x-python",
   "name": "python",
   "nbconvert_exporter": "python",
   "pygments_lexer": "ipython3",
   "version": "3.6.10"
  }
 },
 "nbformat": 4,
 "nbformat_minor": 5
}
